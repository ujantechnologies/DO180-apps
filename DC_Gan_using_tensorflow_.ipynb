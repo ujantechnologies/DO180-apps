{
  "nbformat": 4,
  "nbformat_minor": 0,
  "metadata": {
    "colab": {
      "provenance": [],
      "gpuType": "T4",
      "mount_file_id": "1metGDoxSlTLpQZPkbXwCd7M3drf1AXMs",
      "authorship_tag": "ABX9TyNfHvIpENv1PcYB90zkw4rd",
      "include_colab_link": true
    },
    "kernelspec": {
      "name": "python3",
      "display_name": "Python 3"
    },
    "language_info": {
      "name": "python"
    },
    "accelerator": "GPU"
  },
  "cells": [
    {
      "cell_type": "markdown",
      "metadata": {
        "id": "view-in-github",
        "colab_type": "text"
      },
      "source": [
        "<a href=\"https://colab.research.google.com/github/ujantechnologies/DO180-apps/blob/master/DC_Gan_using_tensorflow_.ipynb\" target=\"_parent\"><img src=\"https://colab.research.google.com/assets/colab-badge.svg\" alt=\"Open In Colab\"/></a>"
      ]
    },
    {
      "cell_type": "code",
      "execution_count": null,
      "metadata": {
        "id": "xGTGGD64a2fa"
      },
      "outputs": [],
      "source": [
        "import tensorflow as tf\n",
        "from tensorflow import keras\n",
        "from tensorflow.keras import layers\n",
        "from tqdm import tqdm\n",
        "import numpy as np\n",
        "import matplotlib.pyplot as plt\n",
        "import os\n",
        "from tensorflow.keras.models import load_model\n",
        "import glob\n",
        "import imageio\n",
        "import re\n",
        "import cv2"
      ]
    },
    {
      "cell_type": "code",
      "source": [
        "physical_devices = tf.config.list_physical_devices(\"GPU\")\n",
        "tf.config.experimental.set_memory_growth(physical_devices[0],True)"
      ],
      "metadata": {
        "id": "GRRFSNWsz9TU"
      },
      "execution_count": null,
      "outputs": []
    },
    {
      "cell_type": "code",
      "source": [
        "!ls -lha /content/drive/MyDrive/Kaggle/kaggle.json"
      ],
      "metadata": {
        "colab": {
          "base_uri": "https://localhost:8080/"
        },
        "id": "TWC51RjF50eu",
        "outputId": "37a87909-cede-47d6-9214-6848864a867c"
      },
      "execution_count": null,
      "outputs": [
        {
          "output_type": "stream",
          "name": "stdout",
          "text": [
            "-rw------- 1 root root 64 Feb 25 20:13 /content/drive/MyDrive/Kaggle/kaggle.json\n"
          ]
        }
      ]
    },
    {
      "cell_type": "code",
      "source": [
        "!pip install -q kaggle\n",
        "#!pip install h5py\n"
      ],
      "metadata": {
        "id": "G4A-h6yp56Oy"
      },
      "execution_count": null,
      "outputs": []
    },
    {
      "cell_type": "code",
      "source": [
        "!mkdir -p ~/.kaggle\n",
        "!cp /content/drive/MyDrive/Kaggle/kaggle.json ~/.kaggle/\n",
        "!chmod 600 /root/.kaggle/kaggle.json"
      ],
      "metadata": {
        "id": "gPI7SFAL6B7r"
      },
      "execution_count": null,
      "outputs": []
    },
    {
      "cell_type": "code",
      "source": [
        "!kaggle datasets download -d jessicali9530/celeba-dataset\n"
      ],
      "metadata": {
        "id": "qx6Kdfu_0ZW6",
        "colab": {
          "base_uri": "https://localhost:8080/"
        },
        "outputId": "fe75079f-1eee-4e97-f2ec-9b813f5178f7"
      },
      "execution_count": null,
      "outputs": [
        {
          "output_type": "stream",
          "name": "stdout",
          "text": [
            "Downloading celeba-dataset.zip to /content\n",
            "100% 1.33G/1.33G [01:00<00:00, 24.8MB/s]\n",
            "100% 1.33G/1.33G [01:00<00:00, 23.7MB/s]\n"
          ]
        }
      ]
    },
    {
      "cell_type": "code",
      "source": [
        "!unzip celeba-dataset.zip"
      ],
      "metadata": {
        "id": "AhwpIn_mZo07"
      },
      "execution_count": null,
      "outputs": []
    },
    {
      "cell_type": "code",
      "source": [
        "dataset  = keras.preprocessing.image_dataset_from_directory(\n",
        "    directory =\"/content/img_align_celeba\",\n",
        "    label_mode =None,\n",
        "    image_size =(128,128),\n",
        "    batch_size=32,\n",
        "    shuffle= True\n",
        ").map(lambda x :x/255.0)"
      ],
      "metadata": {
        "colab": {
          "base_uri": "https://localhost:8080/"
        },
        "id": "m5ci9u9Z4OiF",
        "outputId": "9488cd3c-9daa-4a8b-d782-edd2e411c303"
      },
      "execution_count": null,
      "outputs": [
        {
          "output_type": "stream",
          "name": "stdout",
          "text": [
            "Found 202599 files belonging to 1 classes.\n"
          ]
        }
      ]
    },
    {
      "cell_type": "code",
      "source": [
        "discriminator = keras.Sequential()\n",
        "discriminator.add(keras.Input(shape=(128,128,3)))\n",
        "discriminator.add(layers.Conv2D(64,kernel_size = 4, strides =2, padding =\"same\"))\n",
        "discriminator.add(layers.LeakyReLU(0.2))\n",
        "discriminator.add(layers.Conv2D(128,kernel_size = 4, strides =2, padding =\"same\"))\n",
        "discriminator.add(layers.LeakyReLU(0.2))\n",
        "discriminator.add(layers.Conv2D(128,kernel_size = 4, strides =2, padding =\"same\"))\n",
        "discriminator.add(layers.LeakyReLU(0.2))\n",
        "discriminator.add(layers.Flatten())\n",
        "discriminator.add(layers.Dropout(0.2))\n",
        "discriminator.add(layers.Dense(1,activation=\"sigmoid\"))\n",
        "\n",
        "discriminator.summary()"
      ],
      "metadata": {
        "colab": {
          "base_uri": "https://localhost:8080/"
        },
        "id": "HFlM-yE069yZ",
        "outputId": "290c8573-7ecd-4e4b-940b-68b96ecc756f"
      },
      "execution_count": null,
      "outputs": [
        {
          "output_type": "stream",
          "name": "stdout",
          "text": [
            "Model: \"sequential_13\"\n",
            "_________________________________________________________________\n",
            " Layer (type)                Output Shape              Param #   \n",
            "=================================================================\n",
            " conv2d_25 (Conv2D)          (None, 64, 64, 64)        3136      \n",
            "                                                                 \n",
            " leaky_re_lu_49 (LeakyReLU)  (None, 64, 64, 64)        0         \n",
            "                                                                 \n",
            " conv2d_26 (Conv2D)          (None, 32, 32, 128)       131200    \n",
            "                                                                 \n",
            " leaky_re_lu_50 (LeakyReLU)  (None, 32, 32, 128)       0         \n",
            "                                                                 \n",
            " conv2d_27 (Conv2D)          (None, 16, 16, 128)       262272    \n",
            "                                                                 \n",
            " leaky_re_lu_51 (LeakyReLU)  (None, 16, 16, 128)       0         \n",
            "                                                                 \n",
            " flatten_6 (Flatten)         (None, 32768)             0         \n",
            "                                                                 \n",
            " dropout_6 (Dropout)         (None, 32768)             0         \n",
            "                                                                 \n",
            " dense_13 (Dense)            (None, 1)                 32769     \n",
            "                                                                 \n",
            "=================================================================\n",
            "Total params: 429377 (1.64 MB)\n",
            "Trainable params: 429377 (1.64 MB)\n",
            "Non-trainable params: 0 (0.00 Byte)\n",
            "_________________________________________________________________\n"
          ]
        }
      ]
    },
    {
      "cell_type": "code",
      "source": [
        "latent_dim = 128\n",
        "generator = keras.Sequential()\n",
        "generator.add(keras.Input(shape=(latent_dim,)))\n",
        "generator.add(layers.Dense(8*8*128))\n",
        "generator.add(layers.Reshape((8,8,128)))\n",
        "generator.add(layers.Conv2DTranspose(128,kernel_size=4, strides=2, padding =\"same\"))\n",
        "generator.add(layers.LeakyReLU(0.2))\n",
        "generator.add(layers.Conv2DTranspose(256,kernel_size=4, strides=2, padding =\"same\"))\n",
        "generator.add(layers.LeakyReLU(0.2))\n",
        "generator.add(layers.Conv2DTranspose(512,kernel_size=4, strides=2, padding =\"same\"))\n",
        "generator.add(layers.LeakyReLU(0.2))\n",
        "generator.add(layers.Conv2DTranspose(512,kernel_size=4, strides=2, padding =\"same\"))\n",
        "generator.add(layers.LeakyReLU(0.2))\n",
        "generator.add(layers.Conv2D(3,kernel_size = 5,  padding =\"same\",activation=\"sigmoid\"))\n",
        "generator.summary()"
      ],
      "metadata": {
        "colab": {
          "base_uri": "https://localhost:8080/"
        },
        "id": "xvwsXDEA9Obd",
        "outputId": "a8bb98c3-5f8c-40d1-d922-a53f7eab97ef"
      },
      "execution_count": null,
      "outputs": [
        {
          "output_type": "stream",
          "name": "stdout",
          "text": [
            "Model: \"sequential_11\"\n",
            "_________________________________________________________________\n",
            " Layer (type)                Output Shape              Param #   \n",
            "=================================================================\n",
            " dense_11 (Dense)            (None, 8192)              1056768   \n",
            "                                                                 \n",
            " reshape_6 (Reshape)         (None, 8, 8, 128)         0         \n",
            "                                                                 \n",
            " conv2d_transpose_27 (Conv2  (None, 16, 16, 128)       262272    \n",
            " DTranspose)                                                     \n",
            "                                                                 \n",
            " leaky_re_lu_42 (LeakyReLU)  (None, 16, 16, 128)       0         \n",
            "                                                                 \n",
            " conv2d_transpose_28 (Conv2  (None, 32, 32, 256)       524544    \n",
            " DTranspose)                                                     \n",
            "                                                                 \n",
            " leaky_re_lu_43 (LeakyReLU)  (None, 32, 32, 256)       0         \n",
            "                                                                 \n",
            " conv2d_transpose_29 (Conv2  (None, 64, 64, 512)       2097664   \n",
            " DTranspose)                                                     \n",
            "                                                                 \n",
            " leaky_re_lu_44 (LeakyReLU)  (None, 64, 64, 512)       0         \n",
            "                                                                 \n",
            " conv2d_transpose_30 (Conv2  (None, 128, 128, 512)     4194816   \n",
            " DTranspose)                                                     \n",
            "                                                                 \n",
            " leaky_re_lu_45 (LeakyReLU)  (None, 128, 128, 512)     0         \n",
            "                                                                 \n",
            " conv2d_21 (Conv2D)          (None, 128, 128, 3)       38403     \n",
            "                                                                 \n",
            "=================================================================\n",
            "Total params: 8174467 (31.18 MB)\n",
            "Trainable params: 8174467 (31.18 MB)\n",
            "Non-trainable params: 0 (0.00 Byte)\n",
            "_________________________________________________________________\n"
          ]
        }
      ]
    },
    {
      "cell_type": "code",
      "source": [
        "opt_gen = keras.optimizers.Adam(learning_rate = 0.0002, beta_1 = 0.5, beta_2 = 0.9)\n",
        "opt_disc = keras.optimizers.Adam(learning_rate = 0.0002, beta_1 = 0.5, beta_2 = 0.9)\n",
        "loss_fn = keras.losses.BinaryCrossentropy(from_logits = True)"
      ],
      "metadata": {
        "id": "X3JGezaK_KaB"
      },
      "execution_count": null,
      "outputs": []
    },
    {
      "cell_type": "code",
      "source": [
        "checkpoint_dir = '/content/drive/MyDrive/GAN/CelebA/training_checkpoints'\n",
        "checkpoint_prefix = os.path.join(checkpoint_dir, \"ckpt\")\n",
        "checkpoint = tf.train.Checkpoint(generator_optimizer = opt_gen,\n",
        "                                 discriminator_optimizer = opt_disc,\n",
        "                                 generator = generator,\n",
        "                                 discriminator = discriminator)\n",
        "checkpoint_manager = tf.train.CheckpointManager(checkpoint, checkpoint_dir, max_to_keep = 5)\n",
        "if checkpoint_manager.latest_checkpoint:\n",
        "  checkpoint.restore(checkpoint_manager.latest_checkpoint)\n",
        "  print('Latest checkpoint restored!')\n"
      ],
      "metadata": {
        "id": "X6Mnz7VsZKrd"
      },
      "execution_count": null,
      "outputs": []
    },
    {
      "cell_type": "code",
      "source": [
        "#generator =load_model('/content/drive/MyDrive/GAN/CelebA/training_checkpoints/generator.h5')\n",
        "#discriminator = load_model('/content/drive/MyDrive/GAN/CelebA/training_checkpoints/discriminator.h5')\n",
        "generator.load_weights('/content/drive/MyDrive/GAN/CelebA/training_checkpoints/generator.h5')\n",
        "discriminator.load_weights('/content/drive/MyDrive/GAN/CelebA/training_checkpoints/discriminator.h5')"
      ],
      "metadata": {
        "colab": {
          "base_uri": "https://localhost:8080/",
          "height": 339
        },
        "id": "YdW6_pmEdj2_",
        "outputId": "17e1e13c-f630-4a58-ebbb-f04fb3debd99"
      },
      "execution_count": null,
      "outputs": [
        {
          "output_type": "error",
          "ename": "ValueError",
          "evalue": "Layer count mismatch when loading weights from file. Model expected 7 layers, found 5 saved layers.",
          "traceback": [
            "\u001b[0;31m---------------------------------------------------------------------------\u001b[0m",
            "\u001b[0;31mValueError\u001b[0m                                Traceback (most recent call last)",
            "\u001b[0;32m<ipython-input-88-1db4a91e2362>\u001b[0m in \u001b[0;36m<cell line: 3>\u001b[0;34m()\u001b[0m\n\u001b[1;32m      1\u001b[0m \u001b[0;31m#generator =load_model('/content/drive/MyDrive/GAN/CelebA/training_checkpoints/generator.h5')\u001b[0m\u001b[0;34m\u001b[0m\u001b[0;34m\u001b[0m\u001b[0m\n\u001b[1;32m      2\u001b[0m \u001b[0;31m#discriminator = load_model('/content/drive/MyDrive/GAN/CelebA/training_checkpoints/discriminator.h5')\u001b[0m\u001b[0;34m\u001b[0m\u001b[0;34m\u001b[0m\u001b[0m\n\u001b[0;32m----> 3\u001b[0;31m \u001b[0mgenerator\u001b[0m\u001b[0;34m.\u001b[0m\u001b[0mload_weights\u001b[0m\u001b[0;34m(\u001b[0m\u001b[0;34m'/content/drive/MyDrive/GAN/CelebA/training_checkpoints/generator.h5'\u001b[0m\u001b[0;34m)\u001b[0m\u001b[0;34m\u001b[0m\u001b[0;34m\u001b[0m\u001b[0m\n\u001b[0m\u001b[1;32m      4\u001b[0m \u001b[0mdiscriminator\u001b[0m\u001b[0;34m.\u001b[0m\u001b[0mload_weights\u001b[0m\u001b[0;34m(\u001b[0m\u001b[0;34m'/content/drive/MyDrive/GAN/CelebA/training_checkpoints/discriminator.h5'\u001b[0m\u001b[0;34m)\u001b[0m\u001b[0;34m\u001b[0m\u001b[0;34m\u001b[0m\u001b[0m\n",
            "\u001b[0;32m/usr/local/lib/python3.10/dist-packages/keras/src/utils/traceback_utils.py\u001b[0m in \u001b[0;36merror_handler\u001b[0;34m(*args, **kwargs)\u001b[0m\n\u001b[1;32m     68\u001b[0m             \u001b[0;31m# To get the full stack trace, call:\u001b[0m\u001b[0;34m\u001b[0m\u001b[0;34m\u001b[0m\u001b[0m\n\u001b[1;32m     69\u001b[0m             \u001b[0;31m# `tf.debugging.disable_traceback_filtering()`\u001b[0m\u001b[0;34m\u001b[0m\u001b[0;34m\u001b[0m\u001b[0m\n\u001b[0;32m---> 70\u001b[0;31m             \u001b[0;32mraise\u001b[0m \u001b[0me\u001b[0m\u001b[0;34m.\u001b[0m\u001b[0mwith_traceback\u001b[0m\u001b[0;34m(\u001b[0m\u001b[0mfiltered_tb\u001b[0m\u001b[0;34m)\u001b[0m \u001b[0;32mfrom\u001b[0m \u001b[0;32mNone\u001b[0m\u001b[0;34m\u001b[0m\u001b[0;34m\u001b[0m\u001b[0m\n\u001b[0m\u001b[1;32m     71\u001b[0m         \u001b[0;32mfinally\u001b[0m\u001b[0;34m:\u001b[0m\u001b[0;34m\u001b[0m\u001b[0;34m\u001b[0m\u001b[0m\n\u001b[1;32m     72\u001b[0m             \u001b[0;32mdel\u001b[0m \u001b[0mfiltered_tb\u001b[0m\u001b[0;34m\u001b[0m\u001b[0;34m\u001b[0m\u001b[0m\n",
            "\u001b[0;32m/usr/local/lib/python3.10/dist-packages/keras/src/saving/legacy/hdf5_format.py\u001b[0m in \u001b[0;36mload_weights_from_hdf5_group\u001b[0;34m(f, model)\u001b[0m\n\u001b[1;32m    817\u001b[0m     \u001b[0mlayer_names\u001b[0m \u001b[0;34m=\u001b[0m \u001b[0mfiltered_layer_names\u001b[0m\u001b[0;34m\u001b[0m\u001b[0;34m\u001b[0m\u001b[0m\n\u001b[1;32m    818\u001b[0m     \u001b[0;32mif\u001b[0m \u001b[0mlen\u001b[0m\u001b[0;34m(\u001b[0m\u001b[0mlayer_names\u001b[0m\u001b[0;34m)\u001b[0m \u001b[0;34m!=\u001b[0m \u001b[0mlen\u001b[0m\u001b[0;34m(\u001b[0m\u001b[0mfiltered_layers\u001b[0m\u001b[0;34m)\u001b[0m\u001b[0;34m:\u001b[0m\u001b[0;34m\u001b[0m\u001b[0;34m\u001b[0m\u001b[0m\n\u001b[0;32m--> 819\u001b[0;31m         raise ValueError(\n\u001b[0m\u001b[1;32m    820\u001b[0m             \u001b[0;34m\"Layer count mismatch when loading weights from file. \"\u001b[0m\u001b[0;34m\u001b[0m\u001b[0;34m\u001b[0m\u001b[0m\n\u001b[1;32m    821\u001b[0m             \u001b[0;34mf\"Model expected {len(filtered_layers)} layers, found \"\u001b[0m\u001b[0;34m\u001b[0m\u001b[0;34m\u001b[0m\u001b[0m\n",
            "\u001b[0;31mValueError\u001b[0m: Layer count mismatch when loading weights from file. Model expected 7 layers, found 5 saved layers."
          ]
        }
      ]
    },
    {
      "cell_type": "code",
      "source": [
        "def getlatestnumber():\n",
        "    filenames = glob.glob('/content/drive/MyDrive/GAN/CelebA/generated_high_image/generated_img_*.png')\n",
        "    filenames = sorted(filenames)\n",
        "    x=\"\"\n",
        "    for filename in filenames:\n",
        "        x= filename\n",
        "    match = re.search(r\"(?<=_)\\d+(?=_)\", x)\n",
        "    # Check if a match was found\n",
        "    if match:\n",
        "        # Extract the captured group (the number) and convert it to an integer\n",
        "        number = int(match.group(0))\n",
        "        return (number)  # Output: 1\n",
        "    else:\n",
        "        return (0)"
      ],
      "metadata": {
        "id": "HljtHU09mG4j"
      },
      "execution_count": null,
      "outputs": []
    },
    {
      "cell_type": "code",
      "source": [
        "getlatestnumber()"
      ],
      "metadata": {
        "colab": {
          "base_uri": "https://localhost:8080/"
        },
        "id": "7dCEApfvyXBZ",
        "outputId": "4309bbdf-b03f-496a-9c2f-ed66f61b9551"
      },
      "execution_count": null,
      "outputs": [
        {
          "output_type": "execute_result",
          "data": {
            "text/plain": [
              "0"
            ]
          },
          "metadata": {},
          "execution_count": 109
        }
      ]
    },
    {
      "cell_type": "code",
      "source": [
        "num_start = getlatestnumber()+1\n",
        "num_start"
      ],
      "metadata": {
        "colab": {
          "base_uri": "https://localhost:8080/"
        },
        "id": "A_yy1u-s4xaK",
        "outputId": "6f7c9f8c-f586-430a-cee7-521c2c0b39e2"
      },
      "execution_count": null,
      "outputs": [
        {
          "output_type": "execute_result",
          "data": {
            "text/plain": [
              "1"
            ]
          },
          "metadata": {},
          "execution_count": 110
        }
      ]
    },
    {
      "cell_type": "code",
      "source": [
        "for epoch in range(9):\n",
        "    for idx, real in enumerate (tqdm(dataset)):\n",
        "        batch_size= real.shape[0]\n",
        "        random_latent_vectors = tf.random.normal(shape=(batch_size,latent_dim))\n",
        "        fake = generator(random_latent_vectors)\n",
        "        if (idx%1000 ==0):\n",
        "            img = keras.preprocessing.image.array_to_img(fake[0])\n",
        "            img.save(f\"/content/drive/MyDrive/GAN/CelebA/generated_high_image/generated_img_{num_start}_{idx}.png\")\n",
        "\n",
        "        with tf.GradientTape() as disc_tape:\n",
        "            loss_disc_real = loss_fn(tf.ones((batch_size,1)),discriminator(real))\n",
        "            loss_disc_fake = loss_fn(tf.zeros((batch_size,1)),discriminator(fake))\n",
        "            loss_disc = (loss_disc_real+loss_disc_fake)/2\n",
        "        grads = disc_tape.gradient(loss_disc,discriminator.trainable_weights)\n",
        "        opt_disc.apply_gradients(\n",
        "            zip(grads,discriminator.trainable_weights)\n",
        "        )\n",
        "        with tf.GradientTape() as gen_tape:\n",
        "            fake = generator(random_latent_vectors)\n",
        "            output = discriminator(fake)\n",
        "            loss_gen = loss_fn(tf.ones(batch_size,1),output)\n",
        "        grads = gen_tape.gradient(loss_gen,generator.trainable_weights)\n",
        "        opt_gen.apply_gradients(\n",
        "            zip(grads,generator.trainable_weights)\n",
        "        )\n",
        "        if (idx)% 6000 == 0:\n",
        "         #   checkpoint.save(file_prefix=checkpoint_prefix)\n",
        "            generator.save_weights('/content/drive/MyDrive/GAN/CelebA/training_checkpoints/generatorh.h5')\n",
        "            discriminator.save_weights('/content/drive/MyDrive/GAN/CelebA/training_checkpoints/discriminatorh.h5')\n",
        "    num_start +=1\n",
        "\n",
        "\n"
      ],
      "metadata": {
        "colab": {
          "base_uri": "https://localhost:8080/",
          "height": 428
        },
        "id": "n9CbeH2L_k8I",
        "outputId": "ff8c7854-2bd0-4831-bc23-c733ab86c25e"
      },
      "execution_count": null,
      "outputs": [
        {
          "output_type": "stream",
          "name": "stderr",
          "text": [
            "\r  0%|          | 0/6332 [00:00<?, ?it/s]/usr/local/lib/python3.10/dist-packages/keras/src/backend.py:5818: UserWarning: \"`binary_crossentropy` received `from_logits=True`, but the `output` argument was produced by a Sigmoid activation and thus does not represent logits. Was this intended?\n",
            "  output, from_logits = _get_logits(\n",
            "  1%|          | 37/6332 [01:35<4:30:59,  2.58s/it]\n"
          ]
        },
        {
          "output_type": "error",
          "ename": "KeyboardInterrupt",
          "evalue": "",
          "traceback": [
            "\u001b[0;31m---------------------------------------------------------------------------\u001b[0m",
            "\u001b[0;31mKeyboardInterrupt\u001b[0m                         Traceback (most recent call last)",
            "\u001b[0;32m<ipython-input-111-e02f3dc78f18>\u001b[0m in \u001b[0;36m<cell line: 1>\u001b[0;34m()\u001b[0m\n\u001b[1;32m     19\u001b[0m             \u001b[0mfake\u001b[0m \u001b[0;34m=\u001b[0m \u001b[0mgenerator\u001b[0m\u001b[0;34m(\u001b[0m\u001b[0mrandom_latent_vectors\u001b[0m\u001b[0;34m)\u001b[0m\u001b[0;34m\u001b[0m\u001b[0;34m\u001b[0m\u001b[0m\n\u001b[1;32m     20\u001b[0m             \u001b[0moutput\u001b[0m \u001b[0;34m=\u001b[0m \u001b[0mdiscriminator\u001b[0m\u001b[0;34m(\u001b[0m\u001b[0mfake\u001b[0m\u001b[0;34m)\u001b[0m\u001b[0;34m\u001b[0m\u001b[0;34m\u001b[0m\u001b[0m\n\u001b[0;32m---> 21\u001b[0;31m             \u001b[0mloss_gen\u001b[0m \u001b[0;34m=\u001b[0m \u001b[0mloss_fn\u001b[0m\u001b[0;34m(\u001b[0m\u001b[0mtf\u001b[0m\u001b[0;34m.\u001b[0m\u001b[0mones\u001b[0m\u001b[0;34m(\u001b[0m\u001b[0mbatch_size\u001b[0m\u001b[0;34m,\u001b[0m\u001b[0;36m1\u001b[0m\u001b[0;34m)\u001b[0m\u001b[0;34m,\u001b[0m\u001b[0moutput\u001b[0m\u001b[0;34m)\u001b[0m\u001b[0;34m\u001b[0m\u001b[0;34m\u001b[0m\u001b[0m\n\u001b[0m\u001b[1;32m     22\u001b[0m         \u001b[0mgrads\u001b[0m \u001b[0;34m=\u001b[0m \u001b[0mgen_tape\u001b[0m\u001b[0;34m.\u001b[0m\u001b[0mgradient\u001b[0m\u001b[0;34m(\u001b[0m\u001b[0mloss_gen\u001b[0m\u001b[0;34m,\u001b[0m\u001b[0mgenerator\u001b[0m\u001b[0;34m.\u001b[0m\u001b[0mtrainable_weights\u001b[0m\u001b[0;34m)\u001b[0m\u001b[0;34m\u001b[0m\u001b[0;34m\u001b[0m\u001b[0m\n\u001b[1;32m     23\u001b[0m         opt_gen.apply_gradients(\n",
            "\u001b[0;32m/usr/local/lib/python3.10/dist-packages/keras/src/losses.py\u001b[0m in \u001b[0;36m__call__\u001b[0;34m(self, y_true, y_pred, sample_weight)\u001b[0m\n\u001b[1;32m    159\u001b[0m                 \u001b[0mlosses\u001b[0m\u001b[0;34m,\u001b[0m \u001b[0msample_weight\u001b[0m\u001b[0;34m,\u001b[0m \u001b[0mmask\u001b[0m\u001b[0;34m,\u001b[0m \u001b[0mreduction\u001b[0m\u001b[0;34m\u001b[0m\u001b[0;34m\u001b[0m\u001b[0m\n\u001b[1;32m    160\u001b[0m             )\n\u001b[0;32m--> 161\u001b[0;31m             return losses_utils.compute_weighted_loss(\n\u001b[0m\u001b[1;32m    162\u001b[0m                 \u001b[0mlosses\u001b[0m\u001b[0;34m,\u001b[0m \u001b[0msample_weight\u001b[0m\u001b[0;34m,\u001b[0m \u001b[0mreduction\u001b[0m\u001b[0;34m=\u001b[0m\u001b[0mreduction\u001b[0m\u001b[0;34m\u001b[0m\u001b[0;34m\u001b[0m\u001b[0m\n\u001b[1;32m    163\u001b[0m             )\n",
            "\u001b[0;32m/usr/local/lib/python3.10/dist-packages/keras/src/utils/losses_utils.py\u001b[0m in \u001b[0;36mcompute_weighted_loss\u001b[0;34m(losses, sample_weight, reduction, name)\u001b[0m\n\u001b[1;32m    352\u001b[0m \u001b[0;34m\u001b[0m\u001b[0m\n\u001b[1;32m    353\u001b[0m         \u001b[0;31m# Apply reduction function to the individual weighted losses.\u001b[0m\u001b[0;34m\u001b[0m\u001b[0;34m\u001b[0m\u001b[0m\n\u001b[0;32m--> 354\u001b[0;31m         \u001b[0mloss\u001b[0m \u001b[0;34m=\u001b[0m \u001b[0mreduce_weighted_loss\u001b[0m\u001b[0;34m(\u001b[0m\u001b[0mweighted_losses\u001b[0m\u001b[0;34m,\u001b[0m \u001b[0mreduction\u001b[0m\u001b[0;34m)\u001b[0m\u001b[0;34m\u001b[0m\u001b[0;34m\u001b[0m\u001b[0m\n\u001b[0m\u001b[1;32m    355\u001b[0m         \u001b[0;32mif\u001b[0m \u001b[0minput_casted\u001b[0m\u001b[0;34m:\u001b[0m\u001b[0;34m\u001b[0m\u001b[0;34m\u001b[0m\u001b[0m\n\u001b[1;32m    356\u001b[0m             \u001b[0;31m# Convert the result back to the input type.\u001b[0m\u001b[0;34m\u001b[0m\u001b[0;34m\u001b[0m\u001b[0m\n",
            "\u001b[0;32m/usr/local/lib/python3.10/dist-packages/keras/src/utils/losses_utils.py\u001b[0m in \u001b[0;36mreduce_weighted_loss\u001b[0;34m(weighted_losses, reduction)\u001b[0m\n\u001b[1;32m    283\u001b[0m         \u001b[0mloss\u001b[0m \u001b[0;34m=\u001b[0m \u001b[0mtf\u001b[0m\u001b[0;34m.\u001b[0m\u001b[0mreduce_sum\u001b[0m\u001b[0;34m(\u001b[0m\u001b[0mweighted_losses\u001b[0m\u001b[0;34m)\u001b[0m\u001b[0;34m\u001b[0m\u001b[0;34m\u001b[0m\u001b[0m\n\u001b[1;32m    284\u001b[0m         \u001b[0;32mif\u001b[0m \u001b[0mreduction\u001b[0m \u001b[0;34m==\u001b[0m \u001b[0mReductionV2\u001b[0m\u001b[0;34m.\u001b[0m\u001b[0mSUM_OVER_BATCH_SIZE\u001b[0m\u001b[0;34m:\u001b[0m\u001b[0;34m\u001b[0m\u001b[0;34m\u001b[0m\u001b[0m\n\u001b[0;32m--> 285\u001b[0;31m             \u001b[0mloss\u001b[0m \u001b[0;34m=\u001b[0m \u001b[0m_safe_mean\u001b[0m\u001b[0;34m(\u001b[0m\u001b[0mloss\u001b[0m\u001b[0;34m,\u001b[0m \u001b[0m_num_elements\u001b[0m\u001b[0;34m(\u001b[0m\u001b[0mweighted_losses\u001b[0m\u001b[0;34m)\u001b[0m\u001b[0;34m)\u001b[0m\u001b[0;34m\u001b[0m\u001b[0;34m\u001b[0m\u001b[0m\n\u001b[0m\u001b[1;32m    286\u001b[0m     \u001b[0;32mreturn\u001b[0m \u001b[0mloss\u001b[0m\u001b[0;34m\u001b[0m\u001b[0;34m\u001b[0m\u001b[0m\n\u001b[1;32m    287\u001b[0m \u001b[0;34m\u001b[0m\u001b[0m\n",
            "\u001b[0;32m/usr/local/lib/python3.10/dist-packages/keras/src/utils/losses_utils.py\u001b[0m in \u001b[0;36m_num_elements\u001b[0;34m(losses)\u001b[0m\n\u001b[1;32m    271\u001b[0m     \u001b[0;34m\"\"\"Computes the number of elements in `losses` tensor.\"\"\"\u001b[0m\u001b[0;34m\u001b[0m\u001b[0;34m\u001b[0m\u001b[0m\n\u001b[1;32m    272\u001b[0m     \u001b[0;32mwith\u001b[0m \u001b[0mbackend\u001b[0m\u001b[0;34m.\u001b[0m\u001b[0mname_scope\u001b[0m\u001b[0;34m(\u001b[0m\u001b[0;34m\"num_elements\"\u001b[0m\u001b[0;34m)\u001b[0m \u001b[0;32mas\u001b[0m \u001b[0mscope\u001b[0m\u001b[0;34m:\u001b[0m\u001b[0;34m\u001b[0m\u001b[0;34m\u001b[0m\u001b[0m\n\u001b[0;32m--> 273\u001b[0;31m         \u001b[0;32mreturn\u001b[0m \u001b[0mtf\u001b[0m\u001b[0;34m.\u001b[0m\u001b[0mcast\u001b[0m\u001b[0;34m(\u001b[0m\u001b[0mtf\u001b[0m\u001b[0;34m.\u001b[0m\u001b[0msize\u001b[0m\u001b[0;34m(\u001b[0m\u001b[0mlosses\u001b[0m\u001b[0;34m,\u001b[0m \u001b[0mname\u001b[0m\u001b[0;34m=\u001b[0m\u001b[0mscope\u001b[0m\u001b[0;34m)\u001b[0m\u001b[0;34m,\u001b[0m \u001b[0mdtype\u001b[0m\u001b[0;34m=\u001b[0m\u001b[0mlosses\u001b[0m\u001b[0;34m.\u001b[0m\u001b[0mdtype\u001b[0m\u001b[0;34m)\u001b[0m\u001b[0;34m\u001b[0m\u001b[0;34m\u001b[0m\u001b[0m\n\u001b[0m\u001b[1;32m    274\u001b[0m \u001b[0;34m\u001b[0m\u001b[0m\n\u001b[1;32m    275\u001b[0m \u001b[0;34m\u001b[0m\u001b[0m\n",
            "\u001b[0;32m/usr/local/lib/python3.10/dist-packages/tensorflow/python/util/traceback_utils.py\u001b[0m in \u001b[0;36merror_handler\u001b[0;34m(*args, **kwargs)\u001b[0m\n\u001b[1;32m    148\u001b[0m     \u001b[0mfiltered_tb\u001b[0m \u001b[0;34m=\u001b[0m \u001b[0;32mNone\u001b[0m\u001b[0;34m\u001b[0m\u001b[0;34m\u001b[0m\u001b[0m\n\u001b[1;32m    149\u001b[0m     \u001b[0;32mtry\u001b[0m\u001b[0;34m:\u001b[0m\u001b[0;34m\u001b[0m\u001b[0;34m\u001b[0m\u001b[0m\n\u001b[0;32m--> 150\u001b[0;31m       \u001b[0;32mreturn\u001b[0m \u001b[0mfn\u001b[0m\u001b[0;34m(\u001b[0m\u001b[0;34m*\u001b[0m\u001b[0margs\u001b[0m\u001b[0;34m,\u001b[0m \u001b[0;34m**\u001b[0m\u001b[0mkwargs\u001b[0m\u001b[0;34m)\u001b[0m\u001b[0;34m\u001b[0m\u001b[0;34m\u001b[0m\u001b[0m\n\u001b[0m\u001b[1;32m    151\u001b[0m     \u001b[0;32mexcept\u001b[0m \u001b[0mException\u001b[0m \u001b[0;32mas\u001b[0m \u001b[0me\u001b[0m\u001b[0;34m:\u001b[0m\u001b[0;34m\u001b[0m\u001b[0;34m\u001b[0m\u001b[0m\n\u001b[1;32m    152\u001b[0m       \u001b[0mfiltered_tb\u001b[0m \u001b[0;34m=\u001b[0m \u001b[0m_process_traceback_frames\u001b[0m\u001b[0;34m(\u001b[0m\u001b[0me\u001b[0m\u001b[0;34m.\u001b[0m\u001b[0m__traceback__\u001b[0m\u001b[0;34m)\u001b[0m\u001b[0;34m\u001b[0m\u001b[0;34m\u001b[0m\u001b[0m\n",
            "\u001b[0;32m/usr/local/lib/python3.10/dist-packages/tensorflow/python/util/dispatch.py\u001b[0m in \u001b[0;36mop_dispatch_handler\u001b[0;34m(*args, **kwargs)\u001b[0m\n\u001b[1;32m   1258\u001b[0m       \u001b[0;31m# Fallback dispatch system (dispatch v1):\u001b[0m\u001b[0;34m\u001b[0m\u001b[0;34m\u001b[0m\u001b[0m\n\u001b[1;32m   1259\u001b[0m       \u001b[0;32mtry\u001b[0m\u001b[0;34m:\u001b[0m\u001b[0;34m\u001b[0m\u001b[0;34m\u001b[0m\u001b[0m\n\u001b[0;32m-> 1260\u001b[0;31m         \u001b[0;32mreturn\u001b[0m \u001b[0mdispatch_target\u001b[0m\u001b[0;34m(\u001b[0m\u001b[0;34m*\u001b[0m\u001b[0margs\u001b[0m\u001b[0;34m,\u001b[0m \u001b[0;34m**\u001b[0m\u001b[0mkwargs\u001b[0m\u001b[0;34m)\u001b[0m\u001b[0;34m\u001b[0m\u001b[0;34m\u001b[0m\u001b[0m\n\u001b[0m\u001b[1;32m   1261\u001b[0m       \u001b[0;32mexcept\u001b[0m \u001b[0;34m(\u001b[0m\u001b[0mTypeError\u001b[0m\u001b[0;34m,\u001b[0m \u001b[0mValueError\u001b[0m\u001b[0;34m)\u001b[0m\u001b[0;34m:\u001b[0m\u001b[0;34m\u001b[0m\u001b[0;34m\u001b[0m\u001b[0m\n\u001b[1;32m   1262\u001b[0m         \u001b[0;31m# Note: convert_to_eager_tensor currently raises a ValueError, not a\u001b[0m\u001b[0;34m\u001b[0m\u001b[0;34m\u001b[0m\u001b[0m\n",
            "\u001b[0;32m/usr/local/lib/python3.10/dist-packages/tensorflow/python/ops/math_ops.py\u001b[0m in \u001b[0;36mcast\u001b[0;34m(x, dtype, name)\u001b[0m\n\u001b[1;32m   1022\u001b[0m         )\n\u001b[1;32m   1023\u001b[0m       \u001b[0;32mif\u001b[0m \u001b[0mx\u001b[0m\u001b[0;34m.\u001b[0m\u001b[0mdtype\u001b[0m \u001b[0;34m!=\u001b[0m \u001b[0mbase_type\u001b[0m\u001b[0;34m:\u001b[0m\u001b[0;34m\u001b[0m\u001b[0;34m\u001b[0m\u001b[0m\n\u001b[0;32m-> 1024\u001b[0;31m         \u001b[0mx\u001b[0m \u001b[0;34m=\u001b[0m \u001b[0mgen_math_ops\u001b[0m\u001b[0;34m.\u001b[0m\u001b[0mcast\u001b[0m\u001b[0;34m(\u001b[0m\u001b[0mx\u001b[0m\u001b[0;34m,\u001b[0m \u001b[0mbase_type\u001b[0m\u001b[0;34m,\u001b[0m \u001b[0mname\u001b[0m\u001b[0;34m=\u001b[0m\u001b[0mname\u001b[0m\u001b[0;34m)\u001b[0m\u001b[0;34m\u001b[0m\u001b[0;34m\u001b[0m\u001b[0m\n\u001b[0m\u001b[1;32m   1025\u001b[0m     \u001b[0;32mreturn\u001b[0m \u001b[0mx\u001b[0m\u001b[0;34m\u001b[0m\u001b[0;34m\u001b[0m\u001b[0m\n\u001b[1;32m   1026\u001b[0m \u001b[0;34m\u001b[0m\u001b[0m\n",
            "\u001b[0;32m/usr/local/lib/python3.10/dist-packages/tensorflow/python/ops/gen_math_ops.py\u001b[0m in \u001b[0;36mcast\u001b[0;34m(x, DstT, Truncate, name)\u001b[0m\n\u001b[1;32m   2054\u001b[0m   \u001b[0;32mif\u001b[0m \u001b[0mtld\u001b[0m\u001b[0;34m.\u001b[0m\u001b[0mis_eager\u001b[0m\u001b[0;34m:\u001b[0m\u001b[0;34m\u001b[0m\u001b[0;34m\u001b[0m\u001b[0m\n\u001b[1;32m   2055\u001b[0m     \u001b[0;32mtry\u001b[0m\u001b[0;34m:\u001b[0m\u001b[0;34m\u001b[0m\u001b[0;34m\u001b[0m\u001b[0m\n\u001b[0;32m-> 2056\u001b[0;31m       _result = pywrap_tfe.TFE_Py_FastPathExecute(\n\u001b[0m\u001b[1;32m   2057\u001b[0m         _ctx, \"Cast\", name, x, \"DstT\", DstT, \"Truncate\", Truncate)\n\u001b[1;32m   2058\u001b[0m       \u001b[0;32mreturn\u001b[0m \u001b[0m_result\u001b[0m\u001b[0;34m\u001b[0m\u001b[0;34m\u001b[0m\u001b[0m\n",
            "\u001b[0;31mKeyboardInterrupt\u001b[0m: "
          ]
        }
      ]
    },
    {
      "cell_type": "code",
      "source": [
        "anim_file = 'dcgan.gif'\n",
        "with imageio.get_writer(anim_file, mode='I', format='GIF',duration=350 , loop=0) as writer:\n",
        "  filenames = glob.glob('/content/drive/MyDrive/GAN/CelebA/generated_images/generated_img_*.png')\n",
        "  filenames = sorted(filenames)\n",
        "  for num, filename in enumerate(filenames):\n",
        "\n",
        "    image = imageio.imread(filename)\n",
        "    image = cv2.cvtColor(image, cv2.COLOR_BGR2RGB)\n",
        "    text = str(num)\n",
        "    font_scale = .5  # Adjust for desired size\n",
        "    font_thickness = 2  # Adjust for desired thickness\n",
        "    color = (255, 0, 0)  # Change for desired color (BGR format)\n",
        "\n",
        "    # Choose a location for the text\n",
        "    text_location = (32, 55)  # Adjust coordinates as needed\n",
        "\n",
        "    # Add the text to the image\n",
        "    #cv2.putText(image, text, text_location, cv2.FONT_HERSHEY_SIMPLEX, font_scale, color, font_thickness, cv2.LINE_AA)\n",
        "\n",
        "\n",
        "    writer.append_data(image)\n"
      ],
      "metadata": {
        "colab": {
          "base_uri": "https://localhost:8080/"
        },
        "id": "LNbbNB_pGLM7",
        "outputId": "7d684122-4ea5-44ea-a2b1-a449093c75a1"
      },
      "execution_count": null,
      "outputs": [
        {
          "output_type": "stream",
          "name": "stderr",
          "text": [
            "<ipython-input-73-7e1fe77c2500>:7: DeprecationWarning: Starting with ImageIO v3 the behavior of this function will switch to that of iio.v3.imread. To keep the current behavior (and make this warning disappear) use `import imageio.v2 as imageio` or call `imageio.v2.imread` directly.\n",
            "  image = imageio.imread(filename)\n"
          ]
        }
      ]
    },
    {
      "cell_type": "code",
      "source": [
        "\n",
        "from PIL import Image\n",
        "# Create an empty list to store frames\n",
        "frames = []\n",
        "filenames = glob.glob('/content/drive/MyDrive/GAN/CelebA/generated_images/generated_img_*.png')\n",
        "filenames = sorted(filenames)\n",
        "for num, filename in enumerate(filenames):\n",
        "    image = imageio.imread(filename)\n",
        "    text = str(num)\n",
        "    font_scale = .5  # Adjust for desired size\n",
        "    font_thickness = 2  # Adjust for desired thickness\n",
        "    color = (255, 0, 0)  # Change for desired color (BGR format)\n",
        "    # Choose a location for the text\n",
        "    text_location = (32, 55)  # Adjust coordinates as needed\n",
        "    # Add the text to the image\n",
        "    cv2.putText(image, text, text_location, cv2.FONT_HERSHEY_SIMPLEX, font_scale, color, font_thickness, cv2.LINE_AA)\n",
        "    # Save the modified image\n",
        "    cv2.imwrite(filename, image)\n",
        "    frame = Image.open(filename)\n",
        "    frames.append(frame)\n",
        "# Set animation duration (in milliseconds)\n",
        "duration = 200  # Adjust as needed\n",
        "# Create the GIF\n",
        "gif = frames[0]  # Use the first frame as the base image\n",
        "gif.save('looping_dcgan.gif', format='GIF', append_images=frames[1:], duration=duration, loop=0)  # Loop forever\n"
      ],
      "metadata": {
        "colab": {
          "base_uri": "https://localhost:8080/"
        },
        "id": "ruVjxYF7wZBl",
        "outputId": "d6a3869e-14f3-4d06-ff76-f193c4cefb01"
      },
      "execution_count": null,
      "outputs": [
        {
          "output_type": "stream",
          "name": "stderr",
          "text": [
            "<ipython-input-64-d2b108a36bd3>:7: DeprecationWarning: Starting with ImageIO v3 the behavior of this function will switch to that of iio.v3.imread. To keep the current behavior (and make this warning disappear) use `import imageio.v2 as imageio` or call `imageio.v2.imread` directly.\n",
            "  image = imageio.imread(filename)\n"
          ]
        }
      ]
    },
    {
      "cell_type": "code",
      "source": [
        "anim_file = 'celeb.gif'\n",
        "with imageio.get_writer(anim_file, mode='I',duration =300, loop=0) as writer:\n",
        "  filenames = glob.glob('/content/img_align_celeba/img_align_celeba/*.jpg')\n",
        "  filenames = sorted(filenames)\n",
        "  for x, filename in enumerate(filenames):\n",
        "    image = imageio.imread(filename)\n",
        "    writer.append_data(image)\n",
        "    if x>=10:\n",
        "        break\n",
        "\n",
        "  image = imageio.imread(filename)\n",
        "  writer.append_data(image)"
      ],
      "metadata": {
        "colab": {
          "base_uri": "https://localhost:8080/"
        },
        "id": "XudZwfqVGdXU",
        "outputId": "9bab5d7e-f8ab-44d6-add0-6901e45362e9"
      },
      "execution_count": null,
      "outputs": [
        {
          "output_type": "stream",
          "name": "stderr",
          "text": [
            "<ipython-input-103-2ed59abdf886>:6: DeprecationWarning: Starting with ImageIO v3 the behavior of this function will switch to that of iio.v3.imread. To keep the current behavior (and make this warning disappear) use `import imageio.v2 as imageio` or call `imageio.v2.imread` directly.\n",
            "  image = imageio.imread(filename)\n",
            "<ipython-input-103-2ed59abdf886>:11: DeprecationWarning: Starting with ImageIO v3 the behavior of this function will switch to that of iio.v3.imread. To keep the current behavior (and make this warning disappear) use `import imageio.v2 as imageio` or call `imageio.v2.imread` directly.\n",
            "  image = imageio.imread(filename)\n"
          ]
        }
      ]
    },
    {
      "cell_type": "code",
      "source": [
        "filenames = glob.glob('/content/img_align_celeba/img_align_celeba/*.jpg')\n",
        "filenames = sorted(filenames)\n",
        "for x, filename in enumerate(filenames):\n",
        "    image = imageio.imread(filename)\n",
        "    print(image.shape)\n",
        "    if x>=10:\n",
        "        break"
      ],
      "metadata": {
        "colab": {
          "base_uri": "https://localhost:8080/"
        },
        "id": "8axX_LlguMyt",
        "outputId": "e8595589-a38f-44a9-8801-979682b09380"
      },
      "execution_count": null,
      "outputs": [
        {
          "output_type": "stream",
          "name": "stdout",
          "text": [
            "(218, 178, 3)\n",
            "(218, 178, 3)\n",
            "(218, 178, 3)\n",
            "(218, 178, 3)\n",
            "(218, 178, 3)\n",
            "(218, 178, 3)\n",
            "(218, 178, 3)\n",
            "(218, 178, 3)\n",
            "(218, 178, 3)\n",
            "(218, 178, 3)\n",
            "(218, 178, 3)\n"
          ]
        },
        {
          "output_type": "stream",
          "name": "stderr",
          "text": [
            "<ipython-input-8-0cf1d8dc9c5e>:4: DeprecationWarning: Starting with ImageIO v3 the behavior of this function will switch to that of iio.v3.imread. To keep the current behavior (and make this warning disappear) use `import imageio.v2 as imageio` or call `imageio.v2.imread` directly.\n",
            "  image = imageio.imread(filename)\n"
          ]
        }
      ]
    },
    {
      "cell_type": "code",
      "source": [
        "anim_file1 = 'celebreshape.gif'\n",
        "for idx, real in enumerate (tqdm(dataset)):\n",
        "    #image = imageio.imread(real)\n",
        "    #print(real.shape)\n",
        "    with imageio.get_writer(anim_file1, mode='I',duration =300, loop =0 ) as writer:\n",
        "        for i in range(32):\n",
        "            img = keras.preprocessing.image.array_to_img(real[i])\n",
        "            writer.append_data(img)\n",
        "\n",
        "    if idx>=10:\n",
        "        break"
      ],
      "metadata": {
        "colab": {
          "base_uri": "https://localhost:8080/"
        },
        "id": "n_gb440RuyfW",
        "outputId": "37b28344-6c65-430b-b428-db39eecf51e3"
      },
      "execution_count": null,
      "outputs": [
        {
          "output_type": "stream",
          "name": "stderr",
          "text": [
            "  0%|          | 10/6332 [00:08<1:29:03,  1.18it/s]\n"
          ]
        }
      ]
    },
    {
      "cell_type": "code",
      "source": [
        "!cp '/content/drive/MyDrive/GAN/CelebA/training_checkpoints/generator.h5' .\n",
        "!cp '/content/drive/MyDrive/GAN/CelebA/training_checkpoints/discriminator.h5' ."
      ],
      "metadata": {
        "id": "9BzAeBf_s9AL"
      },
      "execution_count": null,
      "outputs": []
    },
    {
      "cell_type": "code",
      "source": [
        "!rm -r '/content/drive/MyDrive/GAN/CelebA/training_checkpoints/'\n",
        "!mkdir '/content/drive/MyDrive/GAN/CelebA/training_checkpoints/'\n"
      ],
      "metadata": {
        "id": "xZLDO95bB2Xx"
      },
      "execution_count": null,
      "outputs": []
    },
    {
      "cell_type": "code",
      "source": [
        "!cp discriminator.h5 '/content/drive/MyDrive/GAN/CelebA/training_checkpoints/'\n",
        "!cp generator.h5 '/content/drive/MyDrive/GAN/CelebA/training_checkpoints/'\n"
      ],
      "metadata": {
        "id": "C0LIyPOtyn1z"
      },
      "execution_count": null,
      "outputs": []
    },
    {
      "cell_type": "code",
      "source": [
        "!rm -r '/content/drive/MyDrive/GAN/CelebA/generated_images'\n",
        "!mkdir '/content/drive/MyDrive/GAN/CelebA/generated_images'\n"
      ],
      "metadata": {
        "id": "SCOv2MQytPv_"
      },
      "execution_count": null,
      "outputs": []
    },
    {
      "cell_type": "code",
      "source": [
        "random_latent_vectors = tf.random.normal(shape=(batch_size,latent_dim))\n",
        "fake_batch = generator(random_latent_vectors)\n",
        "fig = plt.figure(figsize=(8, 4))\n",
        "for x in range(len(fake_batch)):\n",
        "    img = keras.preprocessing.image.array_to_img(fake_batch[x])\n",
        "    plt.subplot(8, 4, x+1)\n",
        "    plt.imshow(img)\n",
        "    plt.axis('off')\n"
      ],
      "metadata": {
        "colab": {
          "base_uri": "https://localhost:8080/",
          "height": 109
        },
        "id": "2SyadxG-suDW",
        "outputId": "005ef492-be71-455d-d170-53431f61d8fb"
      },
      "execution_count": null,
      "outputs": [
        {
          "output_type": "display_data",
          "data": {
            "text/plain": [
              "<Figure size 800x400 with 7 Axes>"
            ],
            "image/png": "[encoded data removed]"
          },
          "metadata": {}
        }
      ]
    }
  ]
}